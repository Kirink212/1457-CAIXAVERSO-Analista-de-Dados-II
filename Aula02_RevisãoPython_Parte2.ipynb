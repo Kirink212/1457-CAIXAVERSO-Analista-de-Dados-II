{
 "cells": [
  {
   "cell_type": "markdown",
   "metadata": {
    "id": "XcufvzWjlvYk"
   },
   "source": [
    "Variáveis"
   ]
  },
  {
   "cell_type": "code",
   "execution_count": null,
   "metadata": {
    "colab": {
     "base_uri": "https://localhost:8080/"
    },
    "executionInfo": {
     "elapsed": 35,
     "status": "ok",
     "timestamp": 1754439383449,
     "user": {
      "displayName": "Luís Fernando Teixeira Bicalho",
      "userId": "06164611230308633839"
     },
     "user_tz": 180
    },
    "id": "0UINwC7EjyoI",
    "outputId": "588b0ca2-564a-4d97-f86d-9cc379043846"
   },
   "outputs": [
    {
     "name": "stdout",
     "output_type": "stream",
     "text": [
      "5.6\n",
      "31\n",
      "Olá, tudo bem?\n"
     ]
    }
   ],
   "source": [
    "## Atribuição de valor a uma variável\n",
    "# Float -> Número real\n",
    "nota = 7.8\n",
    "\n",
    "# Int -> Número inteiro\n",
    "total_alunos = 31\n",
    "\n",
    "# String -> Conjunto de caracteres (texto)\n",
    "saudacao = \"Olá, tudo bem?\"\n",
    "\n",
    "print(nota)\n",
    "print(total_alunos)\n",
    "print(saudacao)"
   ]
  },
  {
   "cell_type": "code",
   "execution_count": null,
   "metadata": {
    "colab": {
     "base_uri": "https://localhost:8080/"
    },
    "executionInfo": {
     "elapsed": 3,
     "status": "ok",
     "timestamp": 1754439383470,
     "user": {
      "displayName": "Luís Fernando Teixeira Bicalho",
      "userId": "06164611230308633839"
     },
     "user_tz": 180
    },
    "id": "93-nmR_kmlga",
    "outputId": "d90bad3c-6e5d-4a18-a6ae-e1a960dca1c1"
   },
   "outputs": [
    {
     "name": "stdout",
     "output_type": "stream",
     "text": [
      "6\n",
      "-1\n",
      "20\n",
      "16.666666666666668\n",
      "16\n",
      "2\n",
      "8\n"
     ]
    }
   ],
   "source": [
    "# Adição\n",
    "print(5 + 1)\n",
    "# Subtração\n",
    "print(2 - 3)\n",
    "# Multiplicação\n",
    "print(4 * 5)\n",
    "# Divisão (resulta sempre em um FLOAT)\n",
    "print(50/3)\n",
    "# Divisão Inteira (resulta sempre em um INT)\n",
    "print(50//3)\n",
    "# Resto da divisão inteira\n",
    "print(50%3)\n",
    "# Exponenciação\n",
    "print(2**3)"
   ]
  },
  {
   "cell_type": "markdown",
   "metadata": {
    "id": "OStZkYKNqjb_"
   },
   "source": [
    "Já que vimos saída de dados, agora vamos ver como faz a entrada de dados:"
   ]
  },
  {
   "cell_type": "code",
   "execution_count": null,
   "metadata": {
    "colab": {
     "base_uri": "https://localhost:8080/",
     "height": 216
    },
    "executionInfo": {
     "elapsed": 4693,
     "status": "error",
     "timestamp": 1754439388164,
     "user": {
      "displayName": "Luís Fernando Teixeira Bicalho",
      "userId": "06164611230308633839"
     },
     "user_tz": 180
    },
    "id": "rxIslNA0q6Se",
    "outputId": "fcaa5536-bc2c-4585-e3dd-b68d56b833c2"
   },
   "outputs": [
    {
     "name": "stdout",
     "output_type": "stream",
     "text": [
      "Digite a sua nota: 7.5\n",
      "Olá, tudo bem?\n"
     ]
    },
    {
     "ename": "TypeError",
     "evalue": "can only concatenate str (not \"int\") to str",
     "output_type": "error",
     "traceback": [
      "\u001b[0;31m---------------------------------------------------------------------------\u001b[0m",
      "\u001b[0;31mTypeError\u001b[0m                                 Traceback (most recent call last)",
      "\u001b[0;32m/tmp/ipython-input-3368943760.py\u001b[0m in \u001b[0;36m<cell line: 0>\u001b[0;34m()\u001b[0m\n\u001b[1;32m      3\u001b[0m \u001b[0;31m# Concatenação de strings\u001b[0m\u001b[0;34m\u001b[0m\u001b[0;34m\u001b[0m\u001b[0m\n\u001b[1;32m      4\u001b[0m \u001b[0mprint\u001b[0m\u001b[0;34m(\u001b[0m\u001b[0;34m\"Olá, \"\u001b[0m \u001b[0;34m+\u001b[0m \u001b[0;34m\"tudo bem?\"\u001b[0m\u001b[0;34m)\u001b[0m\u001b[0;34m\u001b[0m\u001b[0;34m\u001b[0m\u001b[0m\n\u001b[0;32m----> 5\u001b[0;31m \u001b[0mprint\u001b[0m\u001b[0;34m(\u001b[0m\u001b[0mnota\u001b[0m \u001b[0;34m+\u001b[0m \u001b[0;36m1\u001b[0m\u001b[0;34m)\u001b[0m\u001b[0;34m\u001b[0m\u001b[0;34m\u001b[0m\u001b[0m\n\u001b[0m",
      "\u001b[0;31mTypeError\u001b[0m: can only concatenate str (not \"int\") to str"
     ]
    }
   ],
   "source": [
    "nota = input(\"Digite a sua nota: \")\n",
    "\n",
    "# Concatenação de strings\n",
    "print(\"Olá, \" + \"tudo bem?\")\n",
    "print(nota + 1)"
   ]
  },
  {
   "cell_type": "markdown",
   "metadata": {
    "id": "paALUOd5tJ_0"
   },
   "source": [
    "Não é possível somar números com strings, portanto a solução é:"
   ]
  },
  {
   "cell_type": "code",
   "execution_count": null,
   "metadata": {
    "colab": {
     "base_uri": "https://localhost:8080/"
    },
    "executionInfo": {
     "elapsed": 3371,
     "status": "ok",
     "timestamp": 1754439406038,
     "user": {
      "displayName": "Luís Fernando Teixeira Bicalho",
      "userId": "06164611230308633839"
     },
     "user_tz": 180
    },
    "id": "Ue2PKDONtGUF",
    "outputId": "6e500cda-e8cc-49ed-f268-458e97085740"
   },
   "outputs": [
    {
     "name": "stdout",
     "output_type": "stream",
     "text": [
      "Digite a sua nota: 7.5\n",
      "8.5\n"
     ]
    }
   ],
   "source": [
    "nota = input(\"Digite a sua nota: \")\n",
    "nota = float(nota)\n",
    "\n",
    "print(nota + 1)"
   ]
  },
  {
   "cell_type": "markdown",
   "metadata": {
    "id": "txMElzkguxST"
   },
   "source": [
    "Toda vez que eu quiser incrementar um valor de uma variável eu posso fazer:"
   ]
  },
  {
   "cell_type": "code",
   "execution_count": null,
   "metadata": {
    "colab": {
     "base_uri": "https://localhost:8080/"
    },
    "executionInfo": {
     "elapsed": 44,
     "status": "ok",
     "timestamp": 1754439408284,
     "user": {
      "displayName": "Luís Fernando Teixeira Bicalho",
      "userId": "06164611230308633839"
     },
     "user_tz": 180
    },
    "id": "z9QxxtUMuOdX",
    "outputId": "10289bfd-2bb2-40c8-f4e5-f606547ae42a"
   },
   "outputs": [
    {
     "name": "stdout",
     "output_type": "stream",
     "text": [
      "8.5\n"
     ]
    }
   ],
   "source": [
    "nota = nota + 1\n",
    "print(nota)"
   ]
  },
  {
   "cell_type": "markdown",
   "metadata": {
    "id": "asctmqtLu1k1"
   },
   "source": [
    "Ou eu posso fazer:"
   ]
  },
  {
   "cell_type": "code",
   "execution_count": null,
   "metadata": {
    "colab": {
     "base_uri": "https://localhost:8080/"
    },
    "executionInfo": {
     "elapsed": 263,
     "status": "ok",
     "timestamp": 1754439411333,
     "user": {
      "displayName": "Luís Fernando Teixeira Bicalho",
      "userId": "06164611230308633839"
     },
     "user_tz": 180
    },
    "id": "D4IJ1lhJuvqA",
    "outputId": "3e221e36-239d-4cb0-8c1e-a74b8009c29c"
   },
   "outputs": [
    {
     "name": "stdout",
     "output_type": "stream",
     "text": [
      "9.5\n"
     ]
    }
   ],
   "source": [
    "nota += 1\n",
    "print(nota)"
   ]
  },
  {
   "cell_type": "markdown",
   "metadata": {
    "id": "oqzThgunvaRC"
   },
   "source": [
    "Crie um programa que recebe duas notas e calcula a média aritmética dessas notas:"
   ]
  },
  {
   "cell_type": "markdown",
   "metadata": {
    "id": "AgVPsruywGiG"
   },
   "source": [
    "Passo 1 - Pedir as informações necessárias ao usuário via \"input\""
   ]
  },
  {
   "cell_type": "code",
   "execution_count": null,
   "metadata": {
    "colab": {
     "base_uri": "https://localhost:8080/"
    },
    "executionInfo": {
     "elapsed": 4652,
     "status": "ok",
     "timestamp": 1754439623310,
     "user": {
      "displayName": "Luís Fernando Teixeira Bicalho",
      "userId": "06164611230308633839"
     },
     "user_tz": 180
    },
    "id": "w1SXUFIqvhJL",
    "outputId": "0ab763ac-b2ec-4ebb-ca00-7d72d1124f19"
   },
   "outputs": [
    {
     "name": "stdout",
     "output_type": "stream",
     "text": [
      "Digite a primeira nota: 6\n",
      "Digite a segunda nota: 7\n"
     ]
    }
   ],
   "source": [
    "nota1 = float(input(\"Digite a primeira nota: \"))\n",
    "nota2 = float(input(\"Digite a segunda nota: \"))\n",
    "\n"
   ]
  },
  {
   "cell_type": "markdown",
   "metadata": {
    "id": "gkQMjVj-wLt_"
   },
   "source": [
    "Passo 2 - Calcular a média aritmética"
   ]
  },
  {
   "cell_type": "code",
   "execution_count": null,
   "metadata": {
    "colab": {
     "base_uri": "https://localhost:8080/"
    },
    "executionInfo": {
     "elapsed": 3445,
     "status": "ok",
     "timestamp": 1754439945159,
     "user": {
      "displayName": "Luís Fernando Teixeira Bicalho",
      "userId": "06164611230308633839"
     },
     "user_tz": 180
    },
    "id": "x4GMd-jIwPUf",
    "outputId": "1447d607-dcb5-43f7-c707-7202edd8bb47"
   },
   "outputs": [
    {
     "name": "stdout",
     "output_type": "stream",
     "text": [
      "Digite a primeira nota: 6\n",
      "Digite a segunda nota: 7\n",
      "A sua média é 6.5.\n",
      "A sua média é  6.5\n"
     ]
    }
   ],
   "source": [
    "nota1 = float(input(\"Digite a primeira nota: \"))\n",
    "nota2 = float(input(\"Digite a segunda nota: \"))\n",
    "\n",
    "media = (nota1 + nota2)/2\n",
    "\n",
    "print(f\"A sua média é {media}.\")\n",
    "print(\"A sua média é \", media)"
   ]
  },
  {
   "cell_type": "markdown",
   "metadata": {
    "id": "5QeUgNhsxl-L"
   },
   "source": [
    "E se eu pedisse 3 notas?"
   ]
  },
  {
   "cell_type": "code",
   "execution_count": 1,
   "metadata": {
    "colab": {
     "base_uri": "https://localhost:8080/"
    },
    "executionInfo": {
     "elapsed": 5397,
     "status": "ok",
     "timestamp": 1754604971941,
     "user": {
      "displayName": "Luís Fernando Teixeira Bicalho",
      "userId": "06164611230308633839"
     },
     "user_tz": 180
    },
    "id": "xTDYQr-vxkqn",
    "outputId": "4e88693a-9064-4a22-da66-be8bc421ab26"
   },
   "outputs": [
    {
     "name": "stdout",
     "output_type": "stream",
     "text": [
      "Digite a primeira nota: 6\n",
      "Digite a segunda nota: 7\n",
      "Digite a terceira nota: 5.4\n",
      "A sua média é 6.1.\n",
      "A sua média é  6.133333333333333\n",
      "A sua média é 6.13\n",
      "A sua média é 6.13\n"
     ]
    }
   ],
   "source": [
    "nota1 = float(input(\"Digite a primeira nota: \"))\n",
    "nota2 = float(input(\"Digite a segunda nota: \"))\n",
    "nota3 = float(input(\"Digite a terceira nota: \"))\n",
    "\n",
    "media = (nota1 + nota2 + nota3)/3\n",
    "\n",
    "print(f\"A sua média é {media:.1f}.\")\n",
    "print(\"A sua média é \", media)\n",
    "print(\"A sua média é %.2f\"%media)\n",
    "print(\"A sua média é {:.2f}\".format(media))"
   ]
  },
  {
   "cell_type": "markdown",
   "metadata": {
    "id": "GZLdJ_04zGDL"
   },
   "source": [
    "Crie um programa que calcule a média das notas de um aluno e mostre para ele o conceito com base no seguinte quadro:\n",
    "\n",
    "*   Conceito 'A' -> nota maior que 9\n",
    "*   Conceito 'B' -> nota maior que 8 e menor ou igual a 9\n",
    "*   Conceito 'C' -> nota maior que 7 e menor ou igual a 8\n",
    "*   Conceito 'D' -> nota maior que 5 e menor ou igual a 7\n",
    "*   Conceito 'F' -> nota menor que 5"
   ]
  },
  {
   "cell_type": "code",
   "execution_count": null,
   "metadata": {
    "colab": {
     "base_uri": "https://localhost:8080/"
    },
    "executionInfo": {
     "elapsed": 10107,
     "status": "ok",
     "timestamp": 1754441316839,
     "user": {
      "displayName": "Luís Fernando Teixeira Bicalho",
      "userId": "06164611230308633839"
     },
     "user_tz": 180
    },
    "id": "S-RS10fxz2TM",
    "outputId": "f2b981c7-c7bf-432e-d784-93f1cf9544a7"
   },
   "outputs": [
    {
     "name": "stdout",
     "output_type": "stream",
     "text": [
      "Digite a primeira nota: 8\n",
      "Digite a segunda nota: 7.5\n",
      "A sua média é 7.75.\n",
      "Conceito C\n"
     ]
    }
   ],
   "source": [
    "nota1 = float(input(\"Digite a primeira nota: \"))\n",
    "nota2 = float(input(\"Digite a segunda nota: \"))\n",
    "\n",
    "media = (nota1 + nota2)/2\n",
    "\n",
    "print(f\"A sua média é {media}.\")\n",
    "\n",
    "if media > 9:\n",
    "  print(\"Conceito A\")\n",
    "elif media > 8 and media <= 9:\n",
    "  print(\"Conceito B\")\n",
    "elif media > 7 and media <= 8:\n",
    "  print(\"Conceito C\")\n",
    "elif media > 5 and media <= 7:\n",
    "  print(\"Conceito D\")\n",
    "else:\n",
    "  print(\"Conceito F\")"
   ]
  },
  {
   "cell_type": "markdown",
   "metadata": {
    "id": "bvB914H_37Ey"
   },
   "source": [
    "Esse código pode melhorar..."
   ]
  },
  {
   "cell_type": "code",
   "execution_count": null,
   "metadata": {
    "colab": {
     "base_uri": "https://localhost:8080/"
    },
    "executionInfo": {
     "elapsed": 4394,
     "status": "ok",
     "timestamp": 1754442145601,
     "user": {
      "displayName": "Luís Fernando Teixeira Bicalho",
      "userId": "06164611230308633839"
     },
     "user_tz": 180
    },
    "id": "5HZyG2kpzOjJ",
    "outputId": "5cfecb56-0e80-41d2-cf1a-935fd408c673"
   },
   "outputs": [
    {
     "name": "stdout",
     "output_type": "stream",
     "text": [
      "Digite a primeira nota: 8\n",
      "Digite a segunda nota: 8\n",
      "A sua média é 8.0.\n",
      "Conceito C\n"
     ]
    }
   ],
   "source": [
    "nota1 = float(input(\"Digite a primeira nota: \"))\n",
    "nota2 = float(input(\"Digite a segunda nota: \"))\n",
    "\n",
    "media = (nota1 + nota2)/2\n",
    "\n",
    "print(f\"A sua média é {media}.\")\n",
    "\n",
    "if media > 9:\n",
    "  print(\"Conceito A\")\n",
    "elif media > 8:\n",
    "  print(\"Conceito B\")\n",
    "elif media > 7:\n",
    "  print(\"Conceito C\")\n",
    "elif media > 5:\n",
    "  print(\"Conceito D\")\n",
    "else:\n",
    "  print(\"Conceito F\")"
   ]
  },
  {
   "cell_type": "markdown",
   "metadata": {
    "id": "RYZniuC8qYQ4"
   },
   "source": [
    "# Funções"
   ]
  },
  {
   "cell_type": "code",
   "execution_count": 3,
   "metadata": {
    "colab": {
     "base_uri": "https://localhost:8080/"
    },
    "executionInfo": {
     "elapsed": 15,
     "status": "ok",
     "timestamp": 1754606068651,
     "user": {
      "displayName": "Luís Fernando Teixeira Bicalho",
      "userId": "06164611230308633839"
     },
     "user_tz": 180
    },
    "id": "_1cxE38mqW_T",
    "outputId": "9069d4e8-6465-4593-8ad7-5fd0407482b1"
   },
   "outputs": [
    {
     "data": {
      "text/plain": [
       "676"
      ]
     },
     "execution_count": 3,
     "metadata": {},
     "output_type": "execute_result"
    }
   ],
   "source": [
    "def eleva_ao_quadrado(numero):\n",
    "  return numero ** 2\n",
    "\n",
    "eleva_ao_quadrado(26)"
   ]
  },
  {
   "cell_type": "markdown",
   "metadata": {
    "id": "EeviOwq_pFAp"
   },
   "source": [
    "Altere o programa anterior, adicionando uma **função** que recebe por parâmetro a média, e retorna o conceito equivalente."
   ]
  },
  {
   "cell_type": "code",
   "execution_count": 4,
   "metadata": {
    "colab": {
     "base_uri": "https://localhost:8080/"
    },
    "executionInfo": {
     "elapsed": 6950,
     "status": "ok",
     "timestamp": 1754606741172,
     "user": {
      "displayName": "Luís Fernando Teixeira Bicalho",
      "userId": "06164611230308633839"
     },
     "user_tz": 180
    },
    "id": "TljZkFPSpUaG",
    "outputId": "587748ad-7b5e-4099-867d-02926cae6825"
   },
   "outputs": [
    {
     "name": "stdout",
     "output_type": "stream",
     "text": [
      "Digite a primeira nota: 6\n",
      "Digite a segunda nota: 7\n",
      "A sua média é 6.5.\n",
      "Conceito D\n"
     ]
    }
   ],
   "source": [
    "# Começar definindo as funções\n",
    "def converte_nota_para_conceito(nota):\n",
    "  if nota > 9:\n",
    "    return \"A\"\n",
    "  elif nota > 8:\n",
    "    return \"B\"\n",
    "  elif nota > 7:\n",
    "    return \"C\"\n",
    "  elif nota > 5:\n",
    "    return \"D\"\n",
    "  else:\n",
    "    return \"F\"\n",
    "\n",
    "# Depois seguir para a implementação do seu programa principal\n",
    "nota1 = float(input(\"Digite a primeira nota: \"))\n",
    "nota2 = float(input(\"Digite a segunda nota: \"))\n",
    "\n",
    "media = (nota1 + nota2)/2\n",
    "\n",
    "print(f\"A sua média é {media}.\")\n",
    "\n",
    "conceito = converte_nota_para_conceito(media)\n",
    "\n",
    "print(f\"Conceito {conceito}\")"
   ]
  },
  {
   "cell_type": "markdown",
   "metadata": {
    "id": "saIBcRTYuCIC"
   },
   "source": [
    "Se eu pedisse uma função que EXIBE e não retorna, o código ficaria da seguinte forma:"
   ]
  },
  {
   "cell_type": "code",
   "execution_count": 5,
   "metadata": {
    "colab": {
     "base_uri": "https://localhost:8080/"
    },
    "executionInfo": {
     "elapsed": 21835,
     "status": "ok",
     "timestamp": 1754606959027,
     "user": {
      "displayName": "Luís Fernando Teixeira Bicalho",
      "userId": "06164611230308633839"
     },
     "user_tz": 180
    },
    "id": "OTc2FFLyqc8V",
    "outputId": "31114f04-7008-44ef-9940-7b8d3f34af0b"
   },
   "outputs": [
    {
     "name": "stdout",
     "output_type": "stream",
     "text": [
      "Digite a primeira nota: 6\n",
      "Digite a segunda nota: 7\n",
      "A sua média é 6.5.\n",
      "Conceito D\n",
      "Conceito None\n"
     ]
    }
   ],
   "source": [
    "# Começar definindo as funções\n",
    "def converte_nota_para_conceito(nota):\n",
    "  if nota > 9:\n",
    "    print(\"Conceito A\")\n",
    "  elif nota > 8:\n",
    "    print(\"Conceito B\")\n",
    "  elif nota > 7:\n",
    "    print(\"Conceito C\")\n",
    "  elif nota > 5:\n",
    "    print(\"Conceito D\")\n",
    "  else:\n",
    "    print(\"Conceito F\")\n",
    "\n",
    "# Depois seguir para a implementação do seu programa principal\n",
    "nota1 = float(input(\"Digite a primeira nota: \"))\n",
    "nota2 = float(input(\"Digite a segunda nota: \"))\n",
    "\n",
    "media = (nota1 + nota2)/2\n",
    "\n",
    "print(f\"A sua média é {media}.\")\n",
    "\n",
    "conceito = converte_nota_para_conceito(media)\n",
    "print(f\"Conceito {conceito}\")"
   ]
  },
  {
   "cell_type": "code",
   "execution_count": 7,
   "metadata": {
    "colab": {
     "base_uri": "https://localhost:8080/"
    },
    "executionInfo": {
     "elapsed": 4365,
     "status": "ok",
     "timestamp": 1754607506769,
     "user": {
      "displayName": "Luís Fernando Teixeira Bicalho",
      "userId": "06164611230308633839"
     },
     "user_tz": 180
    },
    "id": "tPj2FNahu_K2",
    "outputId": "43f17e73-3197-462c-b642-cc3e30cbf1de"
   },
   "outputs": [
    {
     "name": "stdout",
     "output_type": "stream",
     "text": [
      "Digite a primeira nota: 6\n",
      "Digite a segunda nota: 7\n",
      "A sua média é 6.5.\n",
      "Conceito D\n"
     ]
    }
   ],
   "source": [
    "# Começar definindo as funções\n",
    "def converte_e_exibe_conceito_a_partir_de(nota):\n",
    "  if nota > 9:\n",
    "    print(\"Conceito A\")\n",
    "  elif nota > 8:\n",
    "    print(\"Conceito B\")\n",
    "  elif nota > 7:\n",
    "    print(\"Conceito C\")\n",
    "  elif nota > 5:\n",
    "    print(\"Conceito D\")\n",
    "  else:\n",
    "    print(\"Conceito F\")\n",
    "\n",
    "# Depois seguir para a implementação do seu programa principal\n",
    "nota1 = float(input(\"Digite a primeira nota: \"))\n",
    "nota2 = float(input(\"Digite a segunda nota: \"))\n",
    "\n",
    "media = (nota1 + nota2)/2\n",
    "\n",
    "print(f\"A sua média é {media}.\")\n",
    "\n",
    "converte_e_exibe_conceito_a_partir_de(media)"
   ]
  },
  {
   "cell_type": "markdown",
   "metadata": {
    "id": "bIfCxVth14Wj"
   },
   "source": [
    "# Repetição Determinada"
   ]
  },
  {
   "cell_type": "markdown",
   "metadata": {
    "id": "bhngbq4OwmQd"
   },
   "source": [
    "E se eu quiser rodar esse programa para VÁRIOS alunos?"
   ]
  },
  {
   "cell_type": "code",
   "execution_count": 8,
   "metadata": {
    "colab": {
     "base_uri": "https://localhost:8080/"
    },
    "executionInfo": {
     "elapsed": 31492,
     "status": "ok",
     "timestamp": 1754608159388,
     "user": {
      "displayName": "Luís Fernando Teixeira Bicalho",
      "userId": "06164611230308633839"
     },
     "user_tz": 180
    },
    "id": "wWIgi-iBwrcw",
    "outputId": "e32e2d85-2175-4904-fc6d-29cc40dab3d3"
   },
   "outputs": [
    {
     "name": "stdout",
     "output_type": "stream",
     "text": [
      "Digite a primeira nota: 6\n",
      "Digite a segunda nota: 7\n",
      "A sua média é 6.5.\n",
      "Conceito D\n",
      "1\n",
      "Digite a primeira nota: 3\n",
      "Digite a segunda nota: 6\n",
      "A sua média é 4.5.\n",
      "Conceito F\n",
      "2\n",
      "Digite a primeira nota: 8\n",
      "Digite a segunda nota: 9.9\n",
      "A sua média é 8.95.\n",
      "Conceito B\n",
      "3\n"
     ]
    }
   ],
   "source": [
    "# Começar definindo as funções\n",
    "def converte_e_exibe_conceito_a_partir_de(nota):\n",
    "  if nota > 9:\n",
    "    print(\"Conceito A\")\n",
    "  elif nota > 8:\n",
    "    print(\"Conceito B\")\n",
    "  elif nota > 7:\n",
    "    print(\"Conceito C\")\n",
    "  elif nota > 5:\n",
    "    print(\"Conceito D\")\n",
    "  else:\n",
    "    print(\"Conceito F\")\n",
    "\n",
    "# Depois seguir para a implementação do seu programa principal\n",
    "# 1 - Inicializo o contador\n",
    "contador = 0\n",
    "\n",
    "# 2 - Comparo o contador com o limite superior\n",
    "while contador < 3:\n",
    "  nota1 = float(input(\"Digite a primeira nota: \"))\n",
    "  nota2 = float(input(\"Digite a segunda nota: \"))\n",
    "\n",
    "  media = (nota1 + nota2)/2\n",
    "\n",
    "  print(f\"A sua média é {media}.\")\n",
    "\n",
    "  converte_e_exibe_conceito_a_partir_de(media)\n",
    "\n",
    "  # 3 - Incremento o contador\n",
    "  contador += 1\n",
    "  print(contador)"
   ]
  },
  {
   "cell_type": "markdown",
   "metadata": {
    "id": "h7Jb5FChzHv9"
   },
   "source": [
    "Exemplo com break e while True"
   ]
  },
  {
   "cell_type": "code",
   "execution_count": null,
   "metadata": {
    "id": "j0rjgYkBzJet"
   },
   "outputs": [],
   "source": [
    "# Começar definindo as funções\n",
    "def converte_e_exibe_conceito_a_partir_de(nota):\n",
    "  if nota > 9:\n",
    "    print(\"Conceito A\")\n",
    "  elif nota > 8:\n",
    "    print(\"Conceito B\")\n",
    "  elif nota > 7:\n",
    "    print(\"Conceito C\")\n",
    "  elif nota > 5:\n",
    "    print(\"Conceito D\")\n",
    "  else:\n",
    "    print(\"Conceito F\")\n",
    "\n",
    "# Depois seguir para a implementação do seu programa principal\n",
    "# 1 - Inicializo o contador\n",
    "contador = 0\n",
    "\n",
    "# 2 - Comparo o contador com o limite superior\n",
    "while True:\n",
    "  if contador >= 10:\n",
    "    break\n",
    "  nota1 = float(input(\"Digite a primeira nota: \"))\n",
    "  nota2 = float(input(\"Digite a segunda nota: \"))\n",
    "\n",
    "  media = (nota1 + nota2)/2\n",
    "\n",
    "  print(f\"A sua média é {media}.\")\n",
    "\n",
    "  converte_e_exibe_conceito_a_partir_de(media)\n",
    "\n",
    "  # 3 - Incremento o contador\n",
    "  contador += 1"
   ]
  },
  {
   "cell_type": "markdown",
   "metadata": {
    "id": "6aWHwpPY1vST"
   },
   "source": [
    "# Repetição Indeterminada"
   ]
  },
  {
   "cell_type": "markdown",
   "metadata": {
    "id": "xi6EkXbX0Xza"
   },
   "source": [
    "O programa deve possuir validação das notas. Todas elas devem ser valores numéricos entre 0 e 10.\\"
   ]
  },
  {
   "cell_type": "code",
   "execution_count": 12,
   "metadata": {
    "colab": {
     "base_uri": "https://localhost:8080/"
    },
    "executionInfo": {
     "elapsed": 41846,
     "status": "ok",
     "timestamp": 1754608846658,
     "user": {
      "displayName": "Luís Fernando Teixeira Bicalho",
      "userId": "06164611230308633839"
     },
     "user_tz": 180
    },
    "id": "SMhgQDDU0e2H",
    "outputId": "d39c2ec8-f302-4aac-feee-65aaaff0c8cd"
   },
   "outputs": [
    {
     "name": "stdout",
     "output_type": "stream",
     "text": [
      "Digite a primeira nota: 7\n",
      "Digite a segunda nota: -5\n",
      "Nota inválida!\n",
      "Digite a primeira nota novamente: 15\n",
      "Nota inválida!\n",
      "Digite a primeira nota novamente: 40\n",
      "Nota inválida!\n",
      "Digite a primeira nota novamente: 10\n",
      "A sua média é 8.5.\n",
      "Conceito B\n"
     ]
    }
   ],
   "source": [
    "nota1 = float(input(\"Digite a primeira nota: \"))\n",
    "while nota1 < 0 or nota1 > 10:\n",
    "  print(\"Nota inválida!\")\n",
    "  nota1 = float(input(\"Digite a primeira nota novamente: \"))\n",
    "\n",
    "nota2 = float(input(\"Digite a segunda nota: \"))\n",
    "while nota2 < 0 or nota2 > 10:\n",
    "  print(\"Nota inválida!\")\n",
    "  nota2 = float(input(\"Digite a primeira nota novamente: \"))\n",
    "\n",
    "media = (nota1 + nota2)/2\n",
    "\n",
    "print(f\"A sua média é {media}.\")\n",
    "\n",
    "converte_e_exibe_conceito_a_partir_de(media)"
   ]
  },
  {
   "cell_type": "markdown",
   "metadata": {
    "id": "ZUbUlc6I5w7M"
   },
   "source": [
    "# Repetição determinada (for)"
   ]
  },
  {
   "cell_type": "code",
   "execution_count": 15,
   "metadata": {
    "colab": {
     "base_uri": "https://localhost:8080/"
    },
    "executionInfo": {
     "elapsed": 15177,
     "status": "ok",
     "timestamp": 1754610431482,
     "user": {
      "displayName": "Luís Fernando Teixeira Bicalho",
      "userId": "06164611230308633839"
     },
     "user_tz": 180
    },
    "id": "fYNsYPCg6HWc",
    "outputId": "4b1a6cb1-2e60-496a-cb26-39b32c0899dd"
   },
   "outputs": [
    {
     "name": "stdout",
     "output_type": "stream",
     "text": [
      "Digite a primeira nota: 6\n",
      "Digite a segunda nota: 7\n",
      "A sua média é 6.5.\n",
      "Conceito D\n",
      "0\n",
      "Digite a primeira nota: 8\n",
      "Digite a segunda nota: 9\n",
      "A sua média é 8.5.\n",
      "Conceito B\n",
      "1\n",
      "Digite a primeira nota: 3\n",
      "Digite a segunda nota: 8\n",
      "A sua média é 5.5.\n",
      "Conceito D\n",
      "2\n"
     ]
    }
   ],
   "source": [
    "# Começar definindo as funções\n",
    "def converte_e_exibe_conceito_a_partir_de(nota):\n",
    "  if nota > 9:\n",
    "    print(\"Conceito A\")\n",
    "  elif nota > 8:\n",
    "    print(\"Conceito B\")\n",
    "  elif nota > 7:\n",
    "    print(\"Conceito C\")\n",
    "  elif nota > 5:\n",
    "    print(\"Conceito D\")\n",
    "  else:\n",
    "    print(\"Conceito F\")\n",
    "\n",
    "# Depois seguir para a implementação do seu programa principal\n",
    "for contador in range(3):\n",
    "  # contador = próximo no intervalo\n",
    "  nota1 = float(input(\"Digite a primeira nota: \"))\n",
    "  nota2 = float(input(\"Digite a segunda nota: \"))\n",
    "\n",
    "  media = (nota1 + nota2)/2\n",
    "\n",
    "  print(f\"A sua média é {media}.\")\n",
    "\n",
    "  converte_e_exibe_conceito_a_partir_de(media)\n",
    "\n",
    "  print(contador)"
   ]
  },
  {
   "cell_type": "markdown",
   "metadata": {
    "id": "q3qN0Ov18NWo"
   },
   "source": []
  },
  {
   "cell_type": "code",
   "execution_count": 14,
   "metadata": {
    "colab": {
     "base_uri": "https://localhost:8080/"
    },
    "executionInfo": {
     "elapsed": 11,
     "status": "ok",
     "timestamp": 1754610375810,
     "user": {
      "displayName": "Luís Fernando Teixeira Bicalho",
      "userId": "06164611230308633839"
     },
     "user_tz": 180
    },
    "id": "AgFIXNlr67kz",
    "outputId": "003a8eb5-d80a-459b-be1c-0a07b863837b"
   },
   "outputs": [
    {
     "name": "stdout",
     "output_type": "stream",
     "text": [
      "range(0, 3)\n",
      "[0, 1, 2]\n"
     ]
    }
   ],
   "source": [
    "print(range(3)) # -> intervalo de O até 3 (fechado em zero e aberto em 3)\n",
    "print(list(range(3)))"
   ]
  },
  {
   "cell_type": "markdown",
   "metadata": {
    "id": "uMAVMu0n9Ea4"
   },
   "source": [
    "# Listas"
   ]
  },
  {
   "cell_type": "code",
   "execution_count": 18,
   "metadata": {
    "colab": {
     "base_uri": "https://localhost:8080/",
     "height": 234
    },
    "executionInfo": {
     "elapsed": 25,
     "status": "error",
     "timestamp": 1754611496923,
     "user": {
      "displayName": "Luís Fernando Teixeira Bicalho",
      "userId": "06164611230308633839"
     },
     "user_tz": 180
    },
    "id": "PhPs8J4J9FwA",
    "outputId": "1336cbd7-4440-4c3d-cecd-6dd3a39867f2"
   },
   "outputs": [
    {
     "name": "stdout",
     "output_type": "stream",
     "text": [
      "9.1\n"
     ]
    },
    {
     "ename": "IndexError",
     "evalue": "list index out of range",
     "output_type": "error",
     "traceback": [
      "\u001b[0;31m---------------------------------------------------------------------------\u001b[0m",
      "\u001b[0;31mIndexError\u001b[0m                                Traceback (most recent call last)",
      "\u001b[0;32m/tmp/ipython-input-468994803.py\u001b[0m in \u001b[0;36m<cell line: 0>\u001b[0;34m()\u001b[0m\n\u001b[1;32m     16\u001b[0m \u001b[0;34m\u001b[0m\u001b[0m\n\u001b[1;32m     17\u001b[0m \u001b[0mprint\u001b[0m\u001b[0;34m(\u001b[0m\u001b[0mlista_medias\u001b[0m\u001b[0;34m[\u001b[0m\u001b[0;36m5\u001b[0m\u001b[0;34m]\u001b[0m\u001b[0;34m)\u001b[0m\u001b[0;34m\u001b[0m\u001b[0;34m\u001b[0m\u001b[0m\n\u001b[0;32m---> 18\u001b[0;31m \u001b[0mprint\u001b[0m\u001b[0;34m(\u001b[0m\u001b[0mlista_medias\u001b[0m\u001b[0;34m[\u001b[0m\u001b[0;36m7\u001b[0m\u001b[0;34m]\u001b[0m\u001b[0;34m)\u001b[0m\u001b[0;34m\u001b[0m\u001b[0;34m\u001b[0m\u001b[0m\n\u001b[0m\u001b[1;32m     19\u001b[0m \u001b[0;34m\u001b[0m\u001b[0m\n\u001b[1;32m     20\u001b[0m \u001b[0;31m# for contador in range(3):\u001b[0m\u001b[0;34m\u001b[0m\u001b[0;34m\u001b[0m\u001b[0m\n",
      "\u001b[0;31mIndexError\u001b[0m: list index out of range"
     ]
    }
   ],
   "source": [
    "# Começar definindo as funções\n",
    "def converte_e_exibe_conceito_a_partir_de(nota):\n",
    "  if nota > 9:\n",
    "    return \"A\"\n",
    "  elif nota > 8:\n",
    "    return \"B\"\n",
    "  elif nota > 7:\n",
    "    return \"C\"\n",
    "  elif nota > 5:\n",
    "    return \"D\"\n",
    "  else:\n",
    "    return \"F\"\n",
    "\n",
    "# Depois seguir para a implementação do seu programa principal\n",
    "lista_medias = [6.7, 7.8, 0.4, 5.6, 3.2, 9.1]\n",
    "\n",
    "print(lista_medias[5])\n",
    "print(lista_medias[7])\n",
    "\n",
    "# for contador in range(3):\n",
    "#   print(f\"A sua média é {media}.\")\n",
    "\n",
    "#   conceito = converte_e_exibe_conceito_a_partir_de(media)\n",
    "\n",
    "#   print(f\"Conceito {conceito}\")"
   ]
  },
  {
   "cell_type": "markdown",
   "metadata": {
    "id": "2FI59tseAWGc"
   },
   "source": [
    "Acessando os elementos da lista e \"fatias\" dela"
   ]
  },
  {
   "cell_type": "code",
   "execution_count": 25,
   "metadata": {
    "colab": {
     "base_uri": "https://localhost:8080/"
    },
    "executionInfo": {
     "elapsed": 19,
     "status": "ok",
     "timestamp": 1754612140044,
     "user": {
      "displayName": "Luís Fernando Teixeira Bicalho",
      "userId": "06164611230308633839"
     },
     "user_tz": 180
    },
    "id": "RxgEke3j_7Bh",
    "outputId": "f31d69ea-c696-4695-df6f-432aa506153e"
   },
   "outputs": [
    {
     "name": "stdout",
     "output_type": "stream",
     "text": [
      "9.1\n",
      "9.1\n",
      "5.6\n",
      "[7.8, 0.4]\n",
      "[0.4, 5.6, 3.2, 9.1]\n",
      "[0.4, 5.6, 3.2, 9.1]\n",
      "[6.7, 7.8, 0.4, 5.6]\n",
      "[7.8, 5.6]\n",
      "[1, 3, 5, 7, 9]\n",
      "[1, 2, 3, 4, 5, 6, 7, 8, 9]\n",
      "[0, 1, 2, 3, 4, 5, 6, 7, 8, 9]\n"
     ]
    }
   ],
   "source": [
    "lista_medias = [6.7, 7.8, 0.4, 5.6, 3.2, 9.1]\n",
    "\n",
    "# Acessando elementos da lista\n",
    "print(lista_medias[5])\n",
    "print(lista_medias[-1])\n",
    "print(lista_medias[-3])\n",
    "\n",
    "# Acessar um \"pedaço\", uma fatia da lista\n",
    "print(lista_medias[1:3])\n",
    "print(lista_medias[2:6])\n",
    "print(lista_medias[2:])\n",
    "print(lista_medias[:4])\n",
    "print(lista_medias[1:5:2])\n",
    "\n",
    "# Sempre consideramos início do intervalo, final do intervalo e passo como valores possíveis, NESTA ORDEM\n",
    "print(list(range(1, 10, 2)))\n",
    "print(list(range(1, 10)))\n",
    "print(list(range(10)))"
   ]
  },
  {
   "cell_type": "markdown",
   "metadata": {
    "id": "Ui78WCffCe73"
   },
   "source": [
    "Considerando o exemplo das médias vindas a partir de uma lista, exibir o conceito para cada uma delas"
   ]
  },
  {
   "cell_type": "code",
   "execution_count": 29,
   "metadata": {
    "colab": {
     "base_uri": "https://localhost:8080/"
    },
    "executionInfo": {
     "elapsed": 35,
     "status": "ok",
     "timestamp": 1754612796402,
     "user": {
      "displayName": "Luís Fernando Teixeira Bicalho",
      "userId": "06164611230308633839"
     },
     "user_tz": 180
    },
    "id": "20qPH4aECnm1",
    "outputId": "4f8930da-6ad4-40be-d9a4-eb70219c766c"
   },
   "outputs": [
    {
     "name": "stdout",
     "output_type": "stream",
     "text": [
      "A sua média é 6.7.\n",
      "Conceito D\n",
      "A sua média é 7.8.\n",
      "Conceito C\n",
      "A sua média é 0.4.\n",
      "Conceito F\n",
      "A sua média é 5.6.\n",
      "Conceito D\n",
      "A sua média é 3.2.\n",
      "Conceito F\n",
      "A sua média é 9.1.\n",
      "Conceito A\n",
      "A sua média é 8.9.\n",
      "Conceito B\n",
      "A sua média é 8.1.\n",
      "Conceito B\n",
      "A sua média é 3.6.\n",
      "Conceito F\n",
      "A sua média é 7.8.\n",
      "Conceito C\n"
     ]
    }
   ],
   "source": [
    "# Começar definindo as funções\n",
    "def converte_nota_para_conceito(nota):\n",
    "  if nota > 9:\n",
    "    return \"A\"\n",
    "  elif nota > 8:\n",
    "    return \"B\"\n",
    "  elif nota > 7:\n",
    "    return \"C\"\n",
    "  elif nota > 5:\n",
    "    return \"D\"\n",
    "  else:\n",
    "    return \"F\"\n",
    "\n",
    "lista_medias = [6.7, 7.8, 0.4, 5.6, 3.2, 9.1, 8.9, 8.1, 3.6, 7.8]\n",
    "\n",
    "for i in range(len(lista_medias)):\n",
    "  print(f\"A sua média é {lista_medias[i]}.\")\n",
    "  conceito = converte_nota_para_conceito(lista_medias[i])\n",
    "  print(f\"Conceito {conceito}\")"
   ]
  },
  {
   "cell_type": "markdown",
   "metadata": {
    "id": "m9K5CjYzE99l"
   },
   "source": [
    "Outras formas de percorrer a lista:"
   ]
  },
  {
   "cell_type": "code",
   "execution_count": 30,
   "metadata": {
    "colab": {
     "base_uri": "https://localhost:8080/"
    },
    "executionInfo": {
     "elapsed": 24,
     "status": "ok",
     "timestamp": 1754612982007,
     "user": {
      "displayName": "Luís Fernando Teixeira Bicalho",
      "userId": "06164611230308633839"
     },
     "user_tz": 180
    },
    "id": "zZ_ziTyGE9ro",
    "outputId": "8b8870d3-d669-449d-a814-66409e229a4a"
   },
   "outputs": [
    {
     "name": "stdout",
     "output_type": "stream",
     "text": [
      "A sua média é 6.7.\n",
      "Conceito D\n",
      "A sua média é 7.8.\n",
      "Conceito C\n",
      "A sua média é 0.4.\n",
      "Conceito F\n",
      "A sua média é 5.6.\n",
      "Conceito D\n",
      "A sua média é 3.2.\n",
      "Conceito F\n",
      "A sua média é 9.1.\n",
      "Conceito A\n",
      "A sua média é 8.9.\n",
      "Conceito B\n",
      "A sua média é 8.1.\n",
      "Conceito B\n",
      "A sua média é 3.6.\n",
      "Conceito F\n",
      "A sua média é 7.8.\n",
      "Conceito C\n"
     ]
    }
   ],
   "source": [
    "lista_medias = [6.7, 7.8, 0.4, 5.6, 3.2, 9.1, 8.9, 8.1, 3.6, 7.8]\n",
    "\n",
    "for media in lista_medias:\n",
    "  print(f\"A sua média é {media}.\")\n",
    "  conceito = converte_nota_para_conceito(media)\n",
    "  print(f\"Conceito {conceito}\")"
   ]
  },
  {
   "cell_type": "markdown",
   "metadata": {
    "id": "VOHXjdvaF9y4"
   },
   "source": [
    "E se eu tiver que preencher uma lista de conceitos?"
   ]
  },
  {
   "cell_type": "code",
   "execution_count": 31,
   "metadata": {
    "colab": {
     "base_uri": "https://localhost:8080/"
    },
    "executionInfo": {
     "elapsed": 48,
     "status": "ok",
     "timestamp": 1754613277315,
     "user": {
      "displayName": "Luís Fernando Teixeira Bicalho",
      "userId": "06164611230308633839"
     },
     "user_tz": 180
    },
    "id": "P1BDrJtaGA5a",
    "outputId": "40dc637b-e36b-4c2e-a3d7-1d0fe77c4d18"
   },
   "outputs": [
    {
     "name": "stdout",
     "output_type": "stream",
     "text": [
      "A sua média é 6.7.\n",
      "Conceito D\n",
      "['D']\n",
      "A sua média é 7.8.\n",
      "Conceito C\n",
      "['D', 'C']\n",
      "A sua média é 0.4.\n",
      "Conceito F\n",
      "['D', 'C', 'F']\n",
      "A sua média é 5.6.\n",
      "Conceito D\n",
      "['D', 'C', 'F', 'D']\n",
      "A sua média é 3.2.\n",
      "Conceito F\n",
      "['D', 'C', 'F', 'D', 'F']\n",
      "A sua média é 9.1.\n",
      "Conceito A\n",
      "['D', 'C', 'F', 'D', 'F', 'A']\n",
      "A sua média é 8.9.\n",
      "Conceito B\n",
      "['D', 'C', 'F', 'D', 'F', 'A', 'B']\n",
      "A sua média é 8.1.\n",
      "Conceito B\n",
      "['D', 'C', 'F', 'D', 'F', 'A', 'B', 'B']\n",
      "A sua média é 3.6.\n",
      "Conceito F\n",
      "['D', 'C', 'F', 'D', 'F', 'A', 'B', 'B', 'F']\n",
      "A sua média é 7.8.\n",
      "Conceito C\n",
      "['D', 'C', 'F', 'D', 'F', 'A', 'B', 'B', 'F', 'C']\n"
     ]
    }
   ],
   "source": [
    "lista_medias = [6.7, 7.8, 0.4, 5.6, 3.2, 9.1, 8.9, 8.1, 3.6, 7.8]\n",
    "lista_conceitos = []\n",
    "\n",
    "for media in lista_medias:\n",
    "  print(f\"A sua média é {media}.\")\n",
    "  conceito = converte_nota_para_conceito(media)\n",
    "  print(f\"Conceito {conceito}\")\n",
    "  lista_conceitos.append(conceito)\n",
    "\n",
    "  # Mostrando a lista crescendo de tamanho em cada etapa\n",
    "  print(lista_conceitos)"
   ]
  },
  {
   "cell_type": "markdown",
   "metadata": {
    "id": "9KcG3_IpHTzq"
   },
   "source": [
    "Algumas outras funções de lista:"
   ]
  },
  {
   "cell_type": "code",
   "execution_count": 37,
   "metadata": {
    "colab": {
     "base_uri": "https://localhost:8080/"
    },
    "executionInfo": {
     "elapsed": 22,
     "status": "ok",
     "timestamp": 1754614076561,
     "user": {
      "displayName": "Luís Fernando Teixeira Bicalho",
      "userId": "06164611230308633839"
     },
     "user_tz": 180
    },
    "id": "_f0dDw7tHWHb",
    "outputId": "81a3fbba-93c9-4845-d357-5a8757b9fa7d"
   },
   "outputs": [
    {
     "name": "stdout",
     "output_type": "stream",
     "text": [
      "67.39999999999999\n",
      "6.127272727272726\n",
      "9.1\n",
      "0.4\n",
      "Menor: 0.4\n",
      "Maior: 9.1\n",
      "Menor: 0.4\n",
      "Maior: 9.1\n"
     ]
    }
   ],
   "source": [
    "lista_medias = [6.7, 7.8, 0.4, 5.6, 3.2, 9.1, 8.9, 8.1, 3.6, 7.8, 6.2]\n",
    "\n",
    "# Encontrar a soma de todos os elementos da lista\n",
    "print(sum(lista_medias))\n",
    "\n",
    "# Encontrar a média de todos os elementos da lista\n",
    "print(sum(lista_medias)/len(lista_medias))\n",
    "\n",
    "# Encontrar a maior média dentre os elementos da lista\n",
    "print(max(lista_medias))\n",
    "\n",
    "# Encontrar a menor média dentre os elementos da lista\n",
    "print(min(lista_medias))\n",
    "\n",
    "# Ordenando a lista (crescente)\n",
    "lista_medias.sort()\n",
    "print(\"Menor:\", lista_medias[0])\n",
    "print(\"Maior:\", lista_medias[-1])\n",
    "\n",
    "# Ordenando a lista (decrescente)\n",
    "lista_medias = lista_medias[::-1]\n",
    "print(\"Menor:\", lista_medias[-1])\n",
    "print(\"Maior:\", lista_medias[0])"
   ]
  },
  {
   "cell_type": "code",
   "execution_count": 39,
   "metadata": {
    "colab": {
     "base_uri": "https://localhost:8080/"
    },
    "executionInfo": {
     "elapsed": 13,
     "status": "ok",
     "timestamp": 1754614113253,
     "user": {
      "displayName": "Luís Fernando Teixeira Bicalho",
      "userId": "06164611230308633839"
     },
     "user_tz": 180
    },
    "id": "cgmyNYUKJmq_",
    "outputId": "89bab066-401a-40aa-8f30-7f6621b26aae"
   },
   "outputs": [
    {
     "data": {
      "text/plain": [
       "[9.1, 8.9, 8.1, 7.8, 7.8, 6.7, 6.2, 5.6, 3.6, 3.2, 0.4]"
      ]
     },
     "execution_count": 39,
     "metadata": {},
     "output_type": "execute_result"
    }
   ],
   "source": [
    "lista_medias"
   ]
  },
  {
   "cell_type": "code",
   "execution_count": 41,
   "metadata": {
    "colab": {
     "base_uri": "https://localhost:8080/"
    },
    "executionInfo": {
     "elapsed": 10,
     "status": "ok",
     "timestamp": 1754614204269,
     "user": {
      "displayName": "Luís Fernando Teixeira Bicalho",
      "userId": "06164611230308633839"
     },
     "user_tz": 180
    },
    "id": "Kjte-7UmJ2T7",
    "outputId": "5a792635-9e9a-415e-d67a-fd41ded0d7d8"
   },
   "outputs": [
    {
     "name": "stdout",
     "output_type": "stream",
     "text": [
      "0 9.1\n",
      "1 8.9\n",
      "2 8.1\n",
      "3 7.8\n",
      "4 7.8\n",
      "5 6.7\n",
      "6 6.2\n",
      "7 5.6\n",
      "8 3.6\n",
      "9 3.2\n",
      "10 0.4\n",
      "[(0, 9.1), (1, 8.9), (2, 8.1), (3, 7.8), (4, 7.8), (5, 6.7), (6, 6.2), (7, 5.6), (8, 3.6), (9, 3.2), (10, 0.4)]\n"
     ]
    }
   ],
   "source": [
    "for i, media in enumerate(lista_medias):\n",
    "  print(i, media)\n",
    "\n",
    "print(list(enumerate(lista_medias)))"
   ]
  }
 ],
 "metadata": {
  "colab": {
   "authorship_tag": "ABX9TyMoD/LRiyFt14X9SS6VysKz",
   "provenance": []
  },
  "kernelspec": {
   "display_name": "Python 3",
   "name": "python3"
  },
  "language_info": {
   "name": "python"
  }
 },
 "nbformat": 4,
 "nbformat_minor": 0
}
