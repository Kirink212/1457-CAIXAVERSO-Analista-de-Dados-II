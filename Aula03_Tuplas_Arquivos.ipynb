{
  "nbformat": 4,
  "nbformat_minor": 0,
  "metadata": {
    "colab": {
      "provenance": []
    },
    "kernelspec": {
      "name": "python3",
      "display_name": "Python 3"
    },
    "language_info": {
      "name": "python"
    }
  },
  "cells": [
    {
      "cell_type": "markdown",
      "source": [
        "# Listas"
      ],
      "metadata": {
        "id": "uMAVMu0n9Ea4"
      }
    },
    {
      "cell_type": "code",
      "source": [
        "# Começar definindo as funções\n",
        "def converte_e_exibe_conceito_a_partir_de(nota):\n",
        "  if nota > 9:\n",
        "    return \"A\"\n",
        "  elif nota > 8:\n",
        "    return \"B\"\n",
        "  elif nota > 7:\n",
        "    return \"C\"\n",
        "  elif nota > 5:\n",
        "    return \"D\"\n",
        "  else:\n",
        "    return \"F\"\n",
        "\n",
        "# Depois seguir para a implementação do seu programa principal\n",
        "lista_medias = [6.7, 7.8, 0.4, 5.6, 3.2, 9.1]\n",
        "\n",
        "print(lista_medias[5])\n",
        "print(lista_medias[7])\n",
        "\n",
        "# for contador in range(3):\n",
        "#   print(f\"A sua média é {media}.\")\n",
        "\n",
        "#   conceito = converte_e_exibe_conceito_a_partir_de(media)\n",
        "\n",
        "#   print(f\"Conceito {conceito}\")"
      ],
      "metadata": {
        "colab": {
          "base_uri": "https://localhost:8080/",
          "height": 234
        },
        "id": "PhPs8J4J9FwA",
        "outputId": "1336cbd7-4440-4c3d-cecd-6dd3a39867f2"
      },
      "execution_count": null,
      "outputs": [
        {
          "output_type": "stream",
          "name": "stdout",
          "text": [
            "9.1\n"
          ]
        },
        {
          "output_type": "error",
          "ename": "IndexError",
          "evalue": "list index out of range",
          "traceback": [
            "\u001b[0;31m---------------------------------------------------------------------------\u001b[0m",
            "\u001b[0;31mIndexError\u001b[0m                                Traceback (most recent call last)",
            "\u001b[0;32m/tmp/ipython-input-468994803.py\u001b[0m in \u001b[0;36m<cell line: 0>\u001b[0;34m()\u001b[0m\n\u001b[1;32m     16\u001b[0m \u001b[0;34m\u001b[0m\u001b[0m\n\u001b[1;32m     17\u001b[0m \u001b[0mprint\u001b[0m\u001b[0;34m(\u001b[0m\u001b[0mlista_medias\u001b[0m\u001b[0;34m[\u001b[0m\u001b[0;36m5\u001b[0m\u001b[0;34m]\u001b[0m\u001b[0;34m)\u001b[0m\u001b[0;34m\u001b[0m\u001b[0;34m\u001b[0m\u001b[0m\n\u001b[0;32m---> 18\u001b[0;31m \u001b[0mprint\u001b[0m\u001b[0;34m(\u001b[0m\u001b[0mlista_medias\u001b[0m\u001b[0;34m[\u001b[0m\u001b[0;36m7\u001b[0m\u001b[0;34m]\u001b[0m\u001b[0;34m)\u001b[0m\u001b[0;34m\u001b[0m\u001b[0;34m\u001b[0m\u001b[0m\n\u001b[0m\u001b[1;32m     19\u001b[0m \u001b[0;34m\u001b[0m\u001b[0m\n\u001b[1;32m     20\u001b[0m \u001b[0;31m# for contador in range(3):\u001b[0m\u001b[0;34m\u001b[0m\u001b[0;34m\u001b[0m\u001b[0m\n",
            "\u001b[0;31mIndexError\u001b[0m: list index out of range"
          ]
        }
      ]
    },
    {
      "cell_type": "markdown",
      "source": [
        "Acessando os elementos da lista e \"fatias\" dela"
      ],
      "metadata": {
        "id": "2FI59tseAWGc"
      }
    },
    {
      "cell_type": "code",
      "source": [
        "lista_medias = [6.7, 7.8, 0.4, 5.6, 3.2, 9.1]\n",
        "\n",
        "# Acessando elementos da lista\n",
        "print(lista_medias[5])\n",
        "print(lista_medias[-1])\n",
        "print(lista_medias[-3])\n",
        "\n",
        "# Acessar um \"pedaço\", uma fatia da lista\n",
        "print(lista_medias[1:3])\n",
        "print(lista_medias[2:6])\n",
        "print(lista_medias[2:])\n",
        "print(lista_medias[:4])\n",
        "print(lista_medias[1:5:2])\n",
        "\n",
        "# Sempre consideramos início do intervalo, final do intervalo e passo como valores possíveis, NESTA ORDEM\n",
        "print(list(range(1, 10, 2)))\n",
        "print(list(range(1, 10)))\n",
        "print(list(range(10)))"
      ],
      "metadata": {
        "colab": {
          "base_uri": "https://localhost:8080/"
        },
        "id": "RxgEke3j_7Bh",
        "outputId": "f31d69ea-c696-4695-df6f-432aa506153e"
      },
      "execution_count": null,
      "outputs": [
        {
          "output_type": "stream",
          "name": "stdout",
          "text": [
            "9.1\n",
            "9.1\n",
            "5.6\n",
            "[7.8, 0.4]\n",
            "[0.4, 5.6, 3.2, 9.1]\n",
            "[0.4, 5.6, 3.2, 9.1]\n",
            "[6.7, 7.8, 0.4, 5.6]\n",
            "[7.8, 5.6]\n",
            "[1, 3, 5, 7, 9]\n",
            "[1, 2, 3, 4, 5, 6, 7, 8, 9]\n",
            "[0, 1, 2, 3, 4, 5, 6, 7, 8, 9]\n"
          ]
        }
      ]
    },
    {
      "cell_type": "markdown",
      "source": [
        "Considerando o exemplo das médias vindas a partir de uma lista, exibir o conceito para cada uma delas"
      ],
      "metadata": {
        "id": "Ui78WCffCe73"
      }
    },
    {
      "cell_type": "code",
      "source": [
        "# Começar definindo as funções\n",
        "def converte_nota_para_conceito(nota):\n",
        "  if nota > 9:\n",
        "    return \"A\"\n",
        "  elif nota > 8:\n",
        "    return \"B\"\n",
        "  elif nota > 7:\n",
        "    return \"C\"\n",
        "  elif nota > 5:\n",
        "    return \"D\"\n",
        "  else:\n",
        "    return \"F\"\n",
        "\n",
        "lista_medias = [6.7, 7.8, 0.4, 5.6, 3.2, 9.1, 8.9, 8.1, 3.6, 7.8]\n",
        "\n",
        "for i in range(len(lista_medias)):\n",
        "  print(f\"A sua média é {lista_medias[i]}.\")\n",
        "  conceito = converte_nota_para_conceito(lista_medias[i])\n",
        "  print(f\"Conceito {conceito}\")"
      ],
      "metadata": {
        "colab": {
          "base_uri": "https://localhost:8080/"
        },
        "id": "20qPH4aECnm1",
        "outputId": "17b52c9d-58ae-453a-9058-4dda8dedd56d"
      },
      "execution_count": null,
      "outputs": [
        {
          "output_type": "stream",
          "name": "stdout",
          "text": [
            "A sua média é 6.7.\n",
            "Conceito D\n",
            "A sua média é 7.8.\n",
            "Conceito C\n",
            "A sua média é 0.4.\n",
            "Conceito F\n",
            "A sua média é 5.6.\n",
            "Conceito D\n",
            "A sua média é 3.2.\n",
            "Conceito F\n",
            "A sua média é 9.1.\n",
            "Conceito A\n",
            "A sua média é 8.9.\n",
            "Conceito B\n",
            "A sua média é 8.1.\n",
            "Conceito B\n",
            "A sua média é 3.6.\n",
            "Conceito F\n",
            "A sua média é 7.8.\n",
            "Conceito C\n"
          ]
        }
      ]
    },
    {
      "cell_type": "markdown",
      "source": [
        "Outras formas de percorrer a lista:"
      ],
      "metadata": {
        "id": "m9K5CjYzE99l"
      }
    },
    {
      "cell_type": "code",
      "source": [
        "lista_medias = [6.7, 7.8, 0.4, 5.6, 3.2, 9.1, 8.9, 8.1, 3.6, 7.8, 5.3]\n",
        "\n",
        "for media in lista_medias:\n",
        "  print(f\"A sua média é {media}.\")\n",
        "  conceito = converte_nota_para_conceito(media)\n",
        "  print(f\"Conceito {conceito}\")"
      ],
      "metadata": {
        "colab": {
          "base_uri": "https://localhost:8080/"
        },
        "id": "zZ_ziTyGE9ro",
        "outputId": "b7a2f06d-dfab-4b8a-c181-9ad29a2c0a01"
      },
      "execution_count": null,
      "outputs": [
        {
          "output_type": "stream",
          "name": "stdout",
          "text": [
            "A sua média é 6.7.\n",
            "Conceito D\n",
            "A sua média é 7.8.\n",
            "Conceito C\n",
            "A sua média é 0.4.\n",
            "Conceito F\n",
            "A sua média é 5.6.\n",
            "Conceito D\n",
            "A sua média é 3.2.\n",
            "Conceito F\n",
            "A sua média é 9.1.\n",
            "Conceito A\n",
            "A sua média é 8.9.\n",
            "Conceito B\n",
            "A sua média é 8.1.\n",
            "Conceito B\n",
            "A sua média é 3.6.\n",
            "Conceito F\n",
            "A sua média é 7.8.\n",
            "Conceito C\n",
            "A sua média é 5.3.\n",
            "Conceito D\n"
          ]
        }
      ]
    },
    {
      "cell_type": "markdown",
      "source": [
        "E se eu tiver que preencher uma lista de conceitos?"
      ],
      "metadata": {
        "id": "VOHXjdvaF9y4"
      }
    },
    {
      "cell_type": "code",
      "source": [
        "lista_medias = [6.7, 7.8, 0.4, 5.6, 3.2, 9.1, 8.9, 8.1, 3.6, 7.8]\n",
        "lista_conceitos = []\n",
        "\n",
        "for media in lista_medias:\n",
        "  print(f\"A sua média é {media}.\")\n",
        "  conceito = converte_nota_para_conceito(media)\n",
        "  print(f\"Conceito {conceito}\")\n",
        "  lista_conceitos.append(conceito)\n",
        "\n",
        "  # Mostrando a lista crescendo de tamanho em cada etapa\n",
        "  print(lista_conceitos)"
      ],
      "metadata": {
        "colab": {
          "base_uri": "https://localhost:8080/"
        },
        "id": "P1BDrJtaGA5a",
        "outputId": "40dc637b-e36b-4c2e-a3d7-1d0fe77c4d18"
      },
      "execution_count": null,
      "outputs": [
        {
          "output_type": "stream",
          "name": "stdout",
          "text": [
            "A sua média é 6.7.\n",
            "Conceito D\n",
            "['D']\n",
            "A sua média é 7.8.\n",
            "Conceito C\n",
            "['D', 'C']\n",
            "A sua média é 0.4.\n",
            "Conceito F\n",
            "['D', 'C', 'F']\n",
            "A sua média é 5.6.\n",
            "Conceito D\n",
            "['D', 'C', 'F', 'D']\n",
            "A sua média é 3.2.\n",
            "Conceito F\n",
            "['D', 'C', 'F', 'D', 'F']\n",
            "A sua média é 9.1.\n",
            "Conceito A\n",
            "['D', 'C', 'F', 'D', 'F', 'A']\n",
            "A sua média é 8.9.\n",
            "Conceito B\n",
            "['D', 'C', 'F', 'D', 'F', 'A', 'B']\n",
            "A sua média é 8.1.\n",
            "Conceito B\n",
            "['D', 'C', 'F', 'D', 'F', 'A', 'B', 'B']\n",
            "A sua média é 3.6.\n",
            "Conceito F\n",
            "['D', 'C', 'F', 'D', 'F', 'A', 'B', 'B', 'F']\n",
            "A sua média é 7.8.\n",
            "Conceito C\n",
            "['D', 'C', 'F', 'D', 'F', 'A', 'B', 'B', 'F', 'C']\n"
          ]
        }
      ]
    },
    {
      "cell_type": "markdown",
      "source": [
        "Algumas outras funções de lista:"
      ],
      "metadata": {
        "id": "9KcG3_IpHTzq"
      }
    },
    {
      "cell_type": "code",
      "source": [
        "lista_medias = [6.7, 7.8, 0.4, 5.6, 3.2, 9.1, 8.9, 8.1, 3.6, 7.8, 6.2]\n",
        "\n",
        "# Encontrar a soma de todos os elementos da lista\n",
        "print(sum(lista_medias))\n",
        "\n",
        "# Encontrar a média de todos os elementos da lista\n",
        "print(sum(lista_medias)/len(lista_medias))\n",
        "\n",
        "# Encontrar a maior média dentre os elementos da lista\n",
        "print(max(lista_medias))\n",
        "\n",
        "# Encontrar a menor média dentre os elementos da lista\n",
        "print(min(lista_medias))\n",
        "\n",
        "# Ordenando a lista (crescente)\n",
        "lista_medias.sort()\n",
        "print(\"Menor:\", lista_medias[0])\n",
        "print(\"Maior:\", lista_medias[-1])\n",
        "\n",
        "# Ordenando a lista (decrescente)\n",
        "lista_medias = lista_medias[::-1]\n",
        "print(\"Menor:\", lista_medias[-1])\n",
        "print(\"Maior:\", lista_medias[0])"
      ],
      "metadata": {
        "colab": {
          "base_uri": "https://localhost:8080/"
        },
        "id": "_f0dDw7tHWHb",
        "outputId": "81a3fbba-93c9-4845-d357-5a8757b9fa7d"
      },
      "execution_count": null,
      "outputs": [
        {
          "output_type": "stream",
          "name": "stdout",
          "text": [
            "67.39999999999999\n",
            "6.127272727272726\n",
            "9.1\n",
            "0.4\n",
            "Menor: 0.4\n",
            "Maior: 9.1\n",
            "Menor: 0.4\n",
            "Maior: 9.1\n"
          ]
        }
      ]
    },
    {
      "cell_type": "code",
      "source": [
        "lista_medias"
      ],
      "metadata": {
        "colab": {
          "base_uri": "https://localhost:8080/"
        },
        "id": "cgmyNYUKJmq_",
        "outputId": "89bab066-401a-40aa-8f30-7f6621b26aae"
      },
      "execution_count": null,
      "outputs": [
        {
          "output_type": "execute_result",
          "data": {
            "text/plain": [
              "[9.1, 8.9, 8.1, 7.8, 7.8, 6.7, 6.2, 5.6, 3.6, 3.2, 0.4]"
            ]
          },
          "metadata": {},
          "execution_count": 39
        }
      ]
    },
    {
      "cell_type": "code",
      "source": [
        "for i, media in enumerate(lista_medias):\n",
        "  print(i, media)\n",
        "\n",
        "print(list(enumerate(lista_medias)))"
      ],
      "metadata": {
        "colab": {
          "base_uri": "https://localhost:8080/"
        },
        "id": "Kjte-7UmJ2T7",
        "outputId": "5a792635-9e9a-415e-d67a-fd41ded0d7d8"
      },
      "execution_count": null,
      "outputs": [
        {
          "output_type": "stream",
          "name": "stdout",
          "text": [
            "0 9.1\n",
            "1 8.9\n",
            "2 8.1\n",
            "3 7.8\n",
            "4 7.8\n",
            "5 6.7\n",
            "6 6.2\n",
            "7 5.6\n",
            "8 3.6\n",
            "9 3.2\n",
            "10 0.4\n",
            "[(0, 9.1), (1, 8.9), (2, 8.1), (3, 7.8), (4, 7.8), (5, 6.7), (6, 6.2), (7, 5.6), (8, 3.6), (9, 3.2), (10, 0.4)]\n"
          ]
        }
      ]
    },
    {
      "cell_type": "markdown",
      "source": [
        "Segue abaixo um exemplo de uma lista com múltiplos tipos de elementos diferentes:"
      ],
      "metadata": {
        "id": "9T9kHHvka4cg"
      }
    },
    {
      "cell_type": "code",
      "source": [
        "lista_exemp = [1.2, 3, True, \"abcdefgh\", [1, 2, 3, 4]]"
      ],
      "metadata": {
        "id": "g_8h3FEjajgx"
      },
      "execution_count": null,
      "outputs": []
    },
    {
      "cell_type": "markdown",
      "source": [
        "Já uma tupla, é:"
      ],
      "metadata": {
        "id": "NI9r6cuKbN_j"
      }
    },
    {
      "cell_type": "code",
      "source": [
        "tupla_exemplo = (1.2, 3, True, \"abcdefgh\", [1, 2, 3, 4])"
      ],
      "metadata": {
        "id": "KfNNoOs3bQEx"
      },
      "execution_count": null,
      "outputs": []
    },
    {
      "cell_type": "markdown",
      "source": [
        "Tudo que fizemos com lista se aplica para tuplas..."
      ],
      "metadata": {
        "id": "4f9wXp9UbnJJ"
      }
    },
    {
      "cell_type": "code",
      "source": [
        "# Sim, podemos acessar elementos individualmente\n",
        "print(tupla_exemplo[1])\n",
        "print(tupla_exemplo[3])\n",
        "\n",
        "# Sim, podemos extrair fatias de uma tupla\n",
        "print(tupla_exemplo[2:4])\n",
        "\n",
        "# É possível fazer append em listas dentro de outras listas, ou tuplas (ou seja, dentro de outras estruturas de dados)\n",
        "tupla_exemplo[4].append(5)\n",
        "lista = [6, 7, 8]\n",
        "\n",
        "# tupla_exemplo[4] = lista -> Não é possível de ser feito (tupla é imutável)\n",
        "# tupla_exemplo[4] += [6, 7, 8] -> Não é possível de ser feito (tupla é imutável)\n",
        "print(tupla_exemplo)\n",
        "\n",
        "# NÃO conseguimos inserir novos elementos em uma tupla\n",
        "# Porém, podemos criar tuplas novas a partir da tupla antiga, com novos elementos nela\n",
        "tupla_exemplo = tupla_exemplo + (\"Novo elemento\",)\n",
        "print(tupla_exemplo)"
      ],
      "metadata": {
        "colab": {
          "base_uri": "https://localhost:8080/"
        },
        "id": "I1Oa7ccAbq9b",
        "outputId": "1961fe15-830a-4030-d383-96686ac0a8fd"
      },
      "execution_count": null,
      "outputs": [
        {
          "output_type": "stream",
          "name": "stdout",
          "text": [
            "3\n",
            "abcdefgh\n",
            "(True, 'abcdefgh')\n",
            "(1.2, 3, True, 'abcdefgh', [1, 2, 3, 4, 5])\n",
            "(1.2, 3, True, 'abcdefgh', [1, 2, 3, 4, 5], 'Novo elemento')\n"
          ]
        }
      ]
    },
    {
      "cell_type": "markdown",
      "source": [
        "Luís, pra que serve esta bagaça?"
      ],
      "metadata": {
        "id": "qG3XmcmngT2P"
      }
    },
    {
      "cell_type": "code",
      "source": [
        "a = 5\n",
        "b = 7\n",
        "\n",
        "print(f\"Variável 'a' antes da troca: {a}\")\n",
        "print(f\"Variável 'b' antes da troca: {b}\")\n",
        "\n",
        "# Trocando as variáveis de lugar\n",
        "aux = a\n",
        "a = b\n",
        "b = aux\n",
        "\n",
        "print(f\"Variável 'a' depois da troca: {a}\")\n",
        "print(f\"Variável 'b' depois da troca: {b}\")"
      ],
      "metadata": {
        "colab": {
          "base_uri": "https://localhost:8080/"
        },
        "id": "FTAlodYJgXCL",
        "outputId": "b27f11bc-4e5f-4a23-8526-e09a7db68c74"
      },
      "execution_count": null,
      "outputs": [
        {
          "output_type": "stream",
          "name": "stdout",
          "text": [
            "Variável 'a' antes da troca: 5\n",
            "Variável 'b' antes da troca: 7\n",
            "Variável 'a' depois da troca: 7\n",
            "Variável 'b' depois da troca: 5\n"
          ]
        }
      ]
    },
    {
      "cell_type": "markdown",
      "source": [
        "Podemos fazer isso de um jeito \"pythônico\" usando TUPLAS:"
      ],
      "metadata": {
        "id": "tcvQ9Y5UhYIO"
      }
    },
    {
      "cell_type": "code",
      "source": [
        "a = 5\n",
        "b = 7\n",
        "\n",
        "print(f\"Variável 'a' antes da troca: {a}\")\n",
        "print(f\"Variável 'b' antes da troca: {b}\")\n",
        "\n",
        "# Trocando as variáveis de lugar\n",
        "(a, b) = (b, a)\n",
        "\n",
        "print(f\"Variável 'a' depois da troca: {a}\")\n",
        "print(f\"Variável 'b' depois da troca: {b}\")"
      ],
      "metadata": {
        "colab": {
          "base_uri": "https://localhost:8080/"
        },
        "id": "Oh50kU4FhcHq",
        "outputId": "c3c996e8-5053-43b8-c8f2-2a20a7f683f3"
      },
      "execution_count": null,
      "outputs": [
        {
          "output_type": "stream",
          "name": "stdout",
          "text": [
            "Variável 'a' antes da troca: 5\n",
            "Variável 'b' antes da troca: 7\n",
            "Variável 'a' depois da troca: 7\n",
            "Variável 'b' depois da troca: 5\n"
          ]
        }
      ]
    },
    {
      "cell_type": "markdown",
      "source": [
        "Criar uma função que recebe uma lista por parâmetro e retorna quem é o maior elemento dessa lista e a sua posição nessa lista.\n"
      ],
      "metadata": {
        "id": "pTMHRcoriZTd"
      }
    },
    {
      "cell_type": "code",
      "source": [
        "def encontra_maior(lista):\n",
        "  maior_elem = max(lista)\n",
        "  indice_maior = lista.index(maior_elem)\n",
        "  return maior_elem, indice_maior\n",
        "\n",
        "lista = [45, 67, 89, 12, 34, 89, 48]\n",
        "maior, indice = encontra_maior(lista)\n",
        "print(maior, indice)"
      ],
      "metadata": {
        "colab": {
          "base_uri": "https://localhost:8080/"
        },
        "id": "RJXY9Qogiplt",
        "outputId": "24a50420-4098-4cda-f6a6-d013810d1c55"
      },
      "execution_count": null,
      "outputs": [
        {
          "output_type": "stream",
          "name": "stdout",
          "text": [
            "89 2\n"
          ]
        }
      ]
    },
    {
      "cell_type": "markdown",
      "source": [
        "Digamos que eu queira criar uma lista de tuplas de médias e conceitos. Como faríamos isso?"
      ],
      "metadata": {
        "id": "LZvVO5_TkEKN"
      }
    },
    {
      "cell_type": "code",
      "source": [
        "lista_medias = [6.7, 7.8, 0.4, 5.6, 3.2, 9.1, 8.9, 8.1, 3.6, 7.8, 5.3]\n",
        "lista_medias_conceitos = []\n",
        "for media in lista_medias:\n",
        "  print(f\"A sua média é {media}.\")\n",
        "  conceito = converte_nota_para_conceito(media)\n",
        "  lista_medias_conceitos.append((media, conceito))\n",
        "  print(f\"Conceito {conceito}\")\n",
        "\n",
        "print(lista_medias_conceitos)"
      ],
      "metadata": {
        "colab": {
          "base_uri": "https://localhost:8080/"
        },
        "id": "LTjiu6kakLT6",
        "outputId": "5c07dd99-96fb-4824-e4ef-5c4912024de2"
      },
      "execution_count": null,
      "outputs": [
        {
          "output_type": "stream",
          "name": "stdout",
          "text": [
            "A sua média é 6.7.\n",
            "Conceito D\n",
            "A sua média é 7.8.\n",
            "Conceito C\n",
            "A sua média é 0.4.\n",
            "Conceito F\n",
            "A sua média é 5.6.\n",
            "Conceito D\n",
            "A sua média é 3.2.\n",
            "Conceito F\n",
            "A sua média é 9.1.\n",
            "Conceito A\n",
            "A sua média é 8.9.\n",
            "Conceito B\n",
            "A sua média é 8.1.\n",
            "Conceito B\n",
            "A sua média é 3.6.\n",
            "Conceito F\n",
            "A sua média é 7.8.\n",
            "Conceito C\n",
            "A sua média é 5.3.\n",
            "Conceito D\n",
            "[(6.7, 'D'), (7.8, 'C'), (0.4, 'F'), (5.6, 'D'), (3.2, 'F'), (9.1, 'A'), (8.9, 'B'), (8.1, 'B'), (3.6, 'F'), (7.8, 'C'), (5.3, 'D')]\n"
          ]
        }
      ]
    },
    {
      "cell_type": "code",
      "source": [
        "for media, conceito in lista_medias_conceitos:\n",
        "  print(media, conceito)"
      ],
      "metadata": {
        "colab": {
          "base_uri": "https://localhost:8080/"
        },
        "id": "51IFlck3kyBe",
        "outputId": "5d566be3-8e6f-4b6e-bc54-104a69392ae8"
      },
      "execution_count": null,
      "outputs": [
        {
          "output_type": "stream",
          "name": "stdout",
          "text": [
            "6.7 D\n",
            "7.8 C\n",
            "0.4 F\n",
            "5.6 D\n",
            "3.2 F\n",
            "9.1 A\n",
            "8.9 B\n",
            "8.1 B\n",
            "3.6 F\n",
            "7.8 C\n",
            "5.3 D\n"
          ]
        }
      ]
    },
    {
      "cell_type": "markdown",
      "source": [
        "Tuplas performam melhor, principalmente no quesito \"criação\". Em outros casos, vale sempre a pena identificar se vamos trabalhar com uma estrutura de dados que vai variar muito de tamanho ou não."
      ],
      "metadata": {
        "id": "f4KbV5AunPtb"
      }
    },
    {
      "cell_type": "code",
      "source": [
        "import timeit\n",
        "print(\"iter tuple:\", timeit.timeit(\"s=0\\nfor x in t: s+=x\", setup=\"t=tuple(range(1000))\", number=2000))\n",
        "print(\"iter list :\", timeit.timeit(\"s=0\\nfor x in L: s+=x\", setup=\"L=list(range(1000))\", number=2000))\n",
        "print(\"make tuple:\", timeit.timeit(\"t=(1,2,3,4,5)\", number=1_000_000))\n",
        "print(\"make list :\", timeit.timeit(\"L=[1,2,3,4,5]\", number=1_000_000))"
      ],
      "metadata": {
        "colab": {
          "base_uri": "https://localhost:8080/"
        },
        "id": "x7ck_jenmwgj",
        "outputId": "ffa459bb-573a-4397-966c-ed8da2f2bcf1"
      },
      "execution_count": null,
      "outputs": [
        {
          "output_type": "stream",
          "name": "stdout",
          "text": [
            "iter tuple: 0.10798385499947472\n",
            "iter list : 0.10174826799993753\n",
            "make tuple: 0.022659438000118826\n",
            "make list : 0.10399059600058536\n"
          ]
        }
      ]
    },
    {
      "cell_type": "markdown",
      "source": [
        "Será que tem um jeito de percorrer duas listas ao mesmo tempo, sem precisar usar uma lista de listas, ou lista de tuplas?"
      ],
      "metadata": {
        "id": "gQXQjukNrwhG"
      }
    },
    {
      "cell_type": "code",
      "source": [
        "lista_medias = [6.7, 7.8, 0.4, 5.6, 3.2, 9.1, 8.9, 8.1, 3.6, 7.8, 5.3]\n",
        "lista_conceitos = []\n",
        "for media in lista_medias:\n",
        "  print(f\"A sua média é {media}.\")\n",
        "  conceito = converte_nota_para_conceito(media)\n",
        "  lista_conceitos.append(conceito)\n",
        "  print(f\"Conceito {conceito}\")\n",
        "\n",
        "# Vamos imaginar que não fomos nós que implementamos o código acima, as duas listas já vieram prontas\n",
        "print(\"\\n\")\n",
        "lista_conceitos.append('F')\n",
        "print(len(lista_medias), len(lista_conceitos))\n",
        "lista_nomes = [\n",
        "    \"Ana\",\n",
        "    \"Bruno\",\n",
        "    \"Carla\",\n",
        "    \"Diego\",\n",
        "    \"Eduarda\",\n",
        "    \"Felipe\",\n",
        "    \"Gabriela\",\n",
        "    \"Hugo\",\n",
        "    \"Isabela\",\n",
        "    \"João\",\n",
        "    \"Larissa\",\n",
        "]\n",
        "\n",
        "print(list(zip(lista_medias, lista_conceitos, lista_nomes)))\n",
        "for media, conceito, nome in zip(lista_medias, lista_conceitos, lista_nomes):\n",
        "  print(media, conceito, nome)"
      ],
      "metadata": {
        "colab": {
          "base_uri": "https://localhost:8080/"
        },
        "id": "n0iGTz_vr36m",
        "outputId": "2b4fed13-f8f4-4d74-90bc-23286950fb47"
      },
      "execution_count": null,
      "outputs": [
        {
          "output_type": "stream",
          "name": "stdout",
          "text": [
            "A sua média é 6.7.\n",
            "Conceito D\n",
            "A sua média é 7.8.\n",
            "Conceito C\n",
            "A sua média é 0.4.\n",
            "Conceito F\n",
            "A sua média é 5.6.\n",
            "Conceito D\n",
            "A sua média é 3.2.\n",
            "Conceito F\n",
            "A sua média é 9.1.\n",
            "Conceito A\n",
            "A sua média é 8.9.\n",
            "Conceito B\n",
            "A sua média é 8.1.\n",
            "Conceito B\n",
            "A sua média é 3.6.\n",
            "Conceito F\n",
            "A sua média é 7.8.\n",
            "Conceito C\n",
            "A sua média é 5.3.\n",
            "Conceito D\n",
            "\n",
            "\n",
            "11 12\n",
            "[(6.7, 'D', 'Ana'), (7.8, 'C', 'Bruno'), (0.4, 'F', 'Carla'), (5.6, 'D', 'Diego'), (3.2, 'F', 'Eduarda'), (9.1, 'A', 'Felipe'), (8.9, 'B', 'Gabriela'), (8.1, 'B', 'Hugo'), (3.6, 'F', 'Isabela'), (7.8, 'C', 'João'), (5.3, 'D', 'Larissa')]\n",
            "6.7 D Ana\n",
            "7.8 C Bruno\n",
            "0.4 F Carla\n",
            "5.6 D Diego\n",
            "3.2 F Eduarda\n",
            "9.1 A Felipe\n",
            "8.9 B Gabriela\n",
            "8.1 B Hugo\n",
            "3.6 F Isabela\n",
            "7.8 C João\n",
            "5.3 D Larissa\n"
          ]
        }
      ]
    },
    {
      "cell_type": "markdown",
      "source": [
        "# Arquivos"
      ],
      "metadata": {
        "id": "dfw2_eIDwspS"
      }
    },
    {
      "cell_type": "markdown",
      "source": [
        "Lendo linha a linha de um arquivo CSV usando `while`"
      ],
      "metadata": {
        "id": "DXfHykEYza8C"
      }
    },
    {
      "cell_type": "code",
      "source": [
        "arq = open(\"alunos.csv\")\n",
        "\n",
        "linha = arq.readline()\n",
        "while linha != '':\n",
        "  print(linha)\n",
        "  linha = arq.readline()"
      ],
      "metadata": {
        "colab": {
          "base_uri": "https://localhost:8080/"
        },
        "id": "UfExj3u3wuxx",
        "outputId": "822fdbf3-6481-4aed-b276-9632d0b5e80d"
      },
      "execution_count": null,
      "outputs": [
        {
          "output_type": "stream",
          "name": "stdout",
          "text": [
            "6.7,D,Ana\n",
            "\n",
            "7.8,C,Bruno\n",
            "\n",
            "0.4,F,Carla\n",
            "\n",
            "5.6,D,Diego\n",
            "\n",
            "3.2,F,Eduarda\n",
            "\n",
            "9.1,A,Felipe\n",
            "\n",
            "8.9,B,Gabriela\n",
            "\n",
            "8.1,B,Hugo\n",
            "\n",
            "3.6,F,Isabela\n",
            "\n",
            "7.8,C,João\n",
            "\n",
            "5.3,D,Larissa\n"
          ]
        }
      ]
    },
    {
      "cell_type": "markdown",
      "source": [
        "Podemos fazer a mesma coisa usando `for`"
      ],
      "metadata": {
        "id": "JkCfggnY0SrG"
      }
    },
    {
      "cell_type": "code",
      "source": [
        "arq = open(\"alunos.csv\")\n",
        "\n",
        "for linha in arq:\n",
        "  print(linha)"
      ],
      "metadata": {
        "colab": {
          "base_uri": "https://localhost:8080/"
        },
        "id": "8PQ8uhQezojx",
        "outputId": "979e7146-9a23-44d7-f978-770cd9207696"
      },
      "execution_count": null,
      "outputs": [
        {
          "output_type": "stream",
          "name": "stdout",
          "text": [
            "6.7,D,Ana\n",
            "\n",
            "7.8,C,Bruno\n",
            "\n",
            "0.4,F,Carla\n",
            "\n",
            "5.6,D,Diego\n",
            "\n",
            "3.2,F,Eduarda\n",
            "\n",
            "9.1,A,Felipe\n",
            "\n",
            "8.9,B,Gabriela\n",
            "\n",
            "8.1,B,Hugo\n",
            "\n",
            "3.6,F,Isabela\n",
            "\n",
            "7.8,C,João\n",
            "\n",
            "5.3,D,Larissa\n"
          ]
        }
      ]
    },
    {
      "cell_type": "markdown",
      "source": [
        "Quero obter a média da turma, como posso fazer isso?"
      ],
      "metadata": {
        "id": "NNVFbqu301Um"
      }
    },
    {
      "cell_type": "code",
      "source": [
        "arq = open(\"alunos.csv\")\n",
        "\n",
        "soma_turma = 0\n",
        "total_alunos = 0\n",
        "for linha in arq:\n",
        "  lista_dados = linha.split(\",\")\n",
        "  media = float(lista_dados[0])\n",
        "  soma_turma += media\n",
        "  total_alunos += 1\n",
        "\n",
        "print(f\"A média da turma é {soma_turma/total_alunos:.2f}\")\n",
        "\n",
        "arq.close()"
      ],
      "metadata": {
        "colab": {
          "base_uri": "https://localhost:8080/"
        },
        "id": "Eo1oafyb06AK",
        "outputId": "c92b08d3-4432-45d6-cb6b-3b1821fafc0e"
      },
      "execution_count": null,
      "outputs": [
        {
          "output_type": "stream",
          "name": "stdout",
          "text": [
            "A média da turma é 6.05\n"
          ]
        }
      ]
    },
    {
      "cell_type": "markdown",
      "source": [
        "Tem algum jeito de eu não precisar lembrar do `arq.close()`?"
      ],
      "metadata": {
        "id": "FIdO4JI13MNm"
      }
    },
    {
      "cell_type": "code",
      "source": [
        "with open(\"alunos.csv\") as arq:\n",
        "  soma_turma = 0\n",
        "  total_alunos = 0\n",
        "  for linha in arq:\n",
        "    lista_dados = linha.split(\",\")\n",
        "    media = float(lista_dados[0])\n",
        "    soma_turma += media\n",
        "    total_alunos += 1\n",
        "\n",
        "  print(f\"A média da turma é {soma_turma/total_alunos:.2f}\")"
      ],
      "metadata": {
        "id": "22XMXRTC3L7A"
      },
      "execution_count": null,
      "outputs": []
    },
    {
      "cell_type": "markdown",
      "source": [
        "Encontrem a maior e menor notas dessa turma, indicando a nota, o conceito e o nome do aluno para cada uma das situações."
      ],
      "metadata": {
        "id": "Hj_S3m2P4GQe"
      }
    },
    {
      "cell_type": "code",
      "source": [],
      "metadata": {
        "id": "zHYDVX_U4O-I"
      },
      "execution_count": null,
      "outputs": []
    }
  ]
}